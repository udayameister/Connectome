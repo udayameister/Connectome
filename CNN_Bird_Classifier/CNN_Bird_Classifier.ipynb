{
  "nbformat": 4,
  "nbformat_minor": 0,
  "metadata": {
    "colab": {
      "name": "Untitled12.ipynb",
      "provenance": []
    },
    "kernelspec": {
      "name": "python3",
      "display_name": "Python 3"
    },
    "accelerator": "GPU"
  },
  "cells": [
    {
      "cell_type": "code",
      "metadata": {
        "id": "rylzg06eO0SZ"
      },
      "source": [
        "from keras.datasets import cifar10\n",
        "from keras.models import Sequential\n",
        "from keras.layers import Dense, Dropout, Flatten, Conv2D, MaxPooling2D, BatchNormalization\n"
      ],
      "execution_count": 1,
      "outputs": []
    },
    {
      "cell_type": "code",
      "source": [
        "# Load data set\n",
        "(x_train, y_train), (x_test, y_test) = cifar10.load_data()\n",
        "\n",
        "# CIFAR10 has ten types of images labeled from 0 to 9. We only care about birds, which are labeled as class #2.\n",
        "# So we'll cheat and change the Y values. Instead of each class being labeled from 0 to 9, we'll set it to True\n",
        "# if it's a bird and False if it's not a bird.\n",
        "y_train = (y_train == 2).astype(int)\n",
        "y_test = (y_test == 2).astype(int)\n",
        "\n",
        "# Normalize image data (pixel values from 0 to 255) to the 0-to-1 range\n",
        "x_train = x_train.astype('float32')\n",
        "x_test = x_test.astype('float32')\n",
        "x_train /= 255\n",
        "x_test /= 255\n",
        "\n"
      ],
      "metadata": {
        "id": "yDkRly5EUXCD"
      },
      "execution_count": 11,
      "outputs": []
    },
    {
      "cell_type": "code",
      "source": [
        "# Create a model and add layers\n",
        "model = Sequential()\n",
        "\n",
        "# 32 convolution filter & (3,3) kernal & \"same\" - padding on the image border\n",
        "model.add(Conv2D(32, (3, 3), padding='same', input_shape=(32, 32, 3), activation=\"relu\"))\n",
        "model.add(Conv2D(32, (3, 3), activation=\"relu\"))\n",
        "# 2*2 kernal matrix\n",
        "model.add(MaxPooling2D(pool_size=(2, 2)))\n",
        "model.add(BatchNormalization())\n",
        "# remove the 25% of datapoints\n",
        "model.add(Dropout(0.25))\n",
        "\n",
        "model.add(Conv2D(64, (3, 3), padding='same', activation=\"relu\"))\n",
        "model.add(Conv2D(64, (3, 3), activation=\"relu\"))\n",
        "model.add(MaxPooling2D(pool_size=(2, 2)))\n",
        "model.add(BatchNormalization())\n",
        "model.add(Dropout(0.25))\n",
        "\n",
        "model.add(Flatten())\n",
        "model.add(Dense(512, activation=\"relu\"))\n",
        "model.add(Dropout(0.5))\n",
        "model.add(Dense(1, activation=\"sigmoid\"))"
      ],
      "metadata": {
        "id": "vv7Q0kzQUeJo"
      },
      "execution_count": 12,
      "outputs": []
    },
    {
      "cell_type": "code",
      "source": [
        "# Compile the model\n",
        "model.compile(\n",
        "    loss='binary_crossentropy',\n",
        "    optimizer=\"adam\",\n",
        "    metrics=['accuracy']\n",
        ")\n"
      ],
      "metadata": {
        "id": "HDBNYr6kUjZw"
      },
      "execution_count": 13,
      "outputs": []
    },
    {
      "cell_type": "code",
      "source": [
        "# Train the model\n",
        "model.fit(\n",
        "    x_train,\n",
        "    y_train,\n",
        "    batch_size=16,\n",
        "    epochs=10,\n",
        "    validation_data=(x_test, y_test),\n",
        "    shuffle=True\n",
        ")"
      ],
      "metadata": {
        "id": "J_hiG4uuUm0I",
        "outputId": "1d9f9eb1-653b-4025-ed85-ae54c490d8c7",
        "colab": {
          "base_uri": "https://localhost:8080/"
        }
      },
      "execution_count": 22,
      "outputs": [
        {
          "output_type": "stream",
          "name": "stdout",
          "text": [
            "Epoch 1/10\n",
            "3125/3125 [==============================] - 21s 6ms/step - loss: 0.1238 - accuracy: 0.9537 - val_loss: 0.1962 - val_accuracy: 0.9393\n",
            "Epoch 2/10\n",
            "3125/3125 [==============================] - 19s 6ms/step - loss: 0.1103 - accuracy: 0.9589 - val_loss: 0.1717 - val_accuracy: 0.9396\n",
            "Epoch 3/10\n",
            "3125/3125 [==============================] - 19s 6ms/step - loss: 0.1089 - accuracy: 0.9585 - val_loss: 0.2193 - val_accuracy: 0.9367\n",
            "Epoch 4/10\n",
            "3125/3125 [==============================] - 19s 6ms/step - loss: 0.1101 - accuracy: 0.9595 - val_loss: 0.1863 - val_accuracy: 0.9405\n",
            "Epoch 5/10\n",
            "3125/3125 [==============================] - 20s 6ms/step - loss: 0.1058 - accuracy: 0.9604 - val_loss: 0.1776 - val_accuracy: 0.9404\n",
            "Epoch 6/10\n",
            "3125/3125 [==============================] - 19s 6ms/step - loss: 0.1003 - accuracy: 0.9627 - val_loss: 0.1731 - val_accuracy: 0.9391\n",
            "Epoch 7/10\n",
            "3125/3125 [==============================] - 20s 6ms/step - loss: 0.1012 - accuracy: 0.9616 - val_loss: 0.2864 - val_accuracy: 0.9287\n",
            "Epoch 8/10\n",
            "3125/3125 [==============================] - 19s 6ms/step - loss: 0.0944 - accuracy: 0.9650 - val_loss: 0.2180 - val_accuracy: 0.9424\n",
            "Epoch 9/10\n",
            "3125/3125 [==============================] - 19s 6ms/step - loss: 0.0928 - accuracy: 0.9661 - val_loss: 0.2050 - val_accuracy: 0.9408\n",
            "Epoch 10/10\n",
            "3125/3125 [==============================] - 19s 6ms/step - loss: 0.0905 - accuracy: 0.9671 - val_loss: 0.2062 - val_accuracy: 0.9434\n"
          ]
        },
        {
          "output_type": "execute_result",
          "data": {
            "text/plain": [
              "<keras.src.callbacks.History at 0x7f0dfa1c9390>"
            ]
          },
          "metadata": {},
          "execution_count": 22
        }
      ]
    },
    {
      "cell_type": "code",
      "source": [
        "# Save the trained model to a file so we can use it to make predictions later\n",
        "model.save(\"bird_model2.h5\")"
      ],
      "metadata": {
        "id": "CWuhbDU3Uyyx",
        "outputId": "488e438e-0dff-49d9-e80c-0700afab70eb",
        "colab": {
          "base_uri": "https://localhost:8080/"
        }
      },
      "execution_count": 23,
      "outputs": [
        {
          "output_type": "stream",
          "name": "stderr",
          "text": [
            "/usr/local/lib/python3.10/dist-packages/keras/src/engine/training.py:3000: UserWarning: You are saving your model as an HDF5 file via `model.save()`. This file format is considered legacy. We recommend using instead the native Keras format, e.g. `model.save('my_model.keras')`.\n",
            "  saving_api.save_model(\n"
          ]
        }
      ]
    },
    {
      "cell_type": "code",
      "metadata": {
        "id": "SzqpaWcgPcjF",
        "colab": {
          "base_uri": "https://localhost:8080/"
        },
        "outputId": "0569d026-4531-4e06-9b9f-99870f5214f7"
      },
      "source": [
        "from keras.models import load_model\n",
        "from sklearn.metrics import confusion_matrix, classification_report\n",
        "\n",
        "model = load_model('bird_model2.h5')\n",
        "predictions = model.predict(x_test, batch_size=32, verbose=1)\n",
        "\n",
        "# If the model is more than 50% sure the object is a bird, call it a bird.\n",
        "# Otherwise, call it \"not a bird\".\n",
        "predictions = predictions > 0.5\n",
        "\n",
        "# Calculate how many mis-classifications the model makes\n",
        "tn, fp, fn, tp = confusion_matrix(y_test, predictions).ravel()\n",
        "print(\"True Positives: \",tp)\n",
        "print(\"True Negatives: \",tn)\n",
        "print(\"False Positives: \",fp)\n",
        "print(\"False Negatives: \",fn)\n",
        "\n",
        "# Calculate Precision and Recall for each class\n",
        "report = classification_report(y_test, predictions)\n",
        "print(report)"
      ],
      "execution_count": 24,
      "outputs": [
        {
          "output_type": "stream",
          "name": "stdout",
          "text": [
            "313/313 [==============================] - 1s 2ms/step\n",
            "True Positives:  553\n",
            "True Negatives:  8881\n",
            "False Positives:  119\n",
            "False Negatives:  447\n",
            "              precision    recall  f1-score   support\n",
            "\n",
            "           0       0.95      0.99      0.97      9000\n",
            "           1       0.82      0.55      0.66      1000\n",
            "\n",
            "    accuracy                           0.94     10000\n",
            "   macro avg       0.89      0.77      0.82     10000\n",
            "weighted avg       0.94      0.94      0.94     10000\n",
            "\n"
          ]
        }
      ]
    },
    {
      "cell_type": "code",
      "source": [
        "from keras.models import load_model\n",
        "from keras.preprocessing import image\n",
        "from pathlib import Path\n",
        "import numpy as np\n",
        "\n",
        "# Load the model we trained\n",
        "model = load_model('bird_model2.h5')\n",
        "\n",
        "for f in sorted(Path(\".\").glob(\"*.png\")):\n",
        "\n",
        "    # Load an image file to test\n",
        "    image_to_test = image.load_img(str(f), target_size=(32, 32))\n",
        "\n",
        "    # Convert the image data to a numpy array suitable for Keras\n",
        "    image_to_test = image.img_to_array(image_to_test)\n",
        "\n",
        "    # Normalize the image the same way we normalized the training data (divide all numbers by 255)\n",
        "    image_to_test /= 255\n",
        "\n",
        "    # Add a fourth dimension to the image since Keras expects a list of images\n",
        "    list_of_images = np.expand_dims(image_to_test, axis=0)\n",
        "\n",
        "    # Make a prediction using the bird model\n",
        "    results = model.predict(list_of_images)\n",
        "\n",
        "    # Since we only passed in one test image, we can just check the first result directly.\n",
        "    image_likelihood = results[0][0]\n",
        "\n",
        "    # The result will be a number from 0.0 to 1.0 representing the likelihood that this image is a bird.\n",
        "    if image_likelihood > 0.5:\n",
        "        print(f\"{f} is most likely a bird! ({image_likelihood:.2f})\")\n",
        "    else:\n",
        "        print(f\"{f} is most likely NOT a bird! ({image_likelihood:.2f})\")"
      ],
      "metadata": {
        "id": "4_ZX3-z8Z7px",
        "outputId": "6faba44e-dc68-46d5-c0ae-858011814f30",
        "colab": {
          "base_uri": "https://localhost:8080/"
        }
      },
      "execution_count": 28,
      "outputs": [
        {
          "output_type": "stream",
          "name": "stdout",
          "text": [
            "1/1 [==============================] - 0s 93ms/step\n",
            "bird1.png is most likely a bird! (0.97)\n",
            "1/1 [==============================] - 0s 18ms/step\n",
            "bird2.png is most likely a bird! (0.85)\n",
            "1/1 [==============================] - 0s 19ms/step\n",
            "bird3.png is most likely a bird! (1.00)\n",
            "1/1 [==============================] - 0s 18ms/step\n",
            "bird4.png is most likely a bird! (0.64)\n",
            "1/1 [==============================] - 0s 21ms/step\n",
            "bird5.png is most likely a bird! (1.00)\n",
            "1/1 [==============================] - 0s 18ms/step\n",
            "not_bird1.png is most likely NOT a bird! (0.00)\n",
            "1/1 [==============================] - 0s 17ms/step\n",
            "not_bird2.png is most likely NOT a bird! (0.00)\n",
            "1/1 [==============================] - 0s 26ms/step\n",
            "not_bird3.png is most likely NOT a bird! (0.03)\n",
            "1/1 [==============================] - 0s 18ms/step\n",
            "not_bird4.png is most likely NOT a bird! (0.00)\n",
            "1/1 [==============================] - 0s 21ms/step\n",
            "not_bird5.png is most likely NOT a bird! (0.00)\n"
          ]
        }
      ]
    }
  ]
}