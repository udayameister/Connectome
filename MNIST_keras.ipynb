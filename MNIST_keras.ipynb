{
  "nbformat": 4,
  "nbformat_minor": 0,
  "metadata": {
    "colab": {
      "name": "MNIST_keras.ipynb",
      "provenance": [],
      "include_colab_link": true
    },
    "kernelspec": {
      "name": "python3",
      "display_name": "Python 3"
    },
    "accelerator": "GPU"
  },
  "cells": [
    {
      "cell_type": "markdown",
      "metadata": {
        "id": "view-in-github",
        "colab_type": "text"
      },
      "source": [
        "<a href=\"https://colab.research.google.com/github/udayameister/Connectome/blob/main/MNIST_keras.ipynb\" target=\"_parent\"><img src=\"https://colab.research.google.com/assets/colab-badge.svg\" alt=\"Open In Colab\"/></a>"
      ]
    },
    {
      "cell_type": "code",
      "metadata": {
        "id": "mE7zM-zj_3GW"
      },
      "source": [
        "import numpy as np\n",
        "import pandas as pd\n",
        "import matplotlib.pyplot as plt\n",
        "%matplotlib inline\n",
        "from keras.datasets import mnist\n",
        "from keras.models import Sequential\n",
        "from keras.layers import Dense, Dropout, Activation\n",
        "from keras.utils import to_categorical\n",
        "\n",
        "np.random.seed(35)"
      ],
      "execution_count": 1,
      "outputs": []
    },
    {
      "cell_type": "code",
      "metadata": {
        "id": "4R_C1zvA_3Ge",
        "colab": {
          "base_uri": "https://localhost:8080/"
        },
        "outputId": "59e33566-306b-4c98-b9be-d0a6438ab5c1"
      },
      "source": [
        "(X_train, y_train), (X_test, y_test) = mnist.load_data()\n",
        "print(\"X_train original shape\", X_train.shape)\n",
        "print(\"y_train original shape\", y_train.shape)\n",
        "print(\"X_test original shape\", X_test.shape)\n",
        "print(\"y_test original shape\", y_test.shape)"
      ],
      "execution_count": 2,
      "outputs": [
        {
          "output_type": "stream",
          "name": "stdout",
          "text": [
            "Downloading data from https://storage.googleapis.com/tensorflow/tf-keras-datasets/mnist.npz\n",
            "11490434/11490434 [==============================] - 0s 0us/step\n",
            "X_train original shape (60000, 28, 28)\n",
            "y_train original shape (60000,)\n",
            "X_test original shape (10000, 28, 28)\n",
            "y_test original shape (10000,)\n"
          ]
        }
      ]
    },
    {
      "cell_type": "code",
      "metadata": {
        "id": "BgPvv_Mo_3Gl",
        "colab": {
          "base_uri": "https://localhost:8080/",
          "height": 469
        },
        "outputId": "1dcdcb0d-52bb-40f0-a3d5-bec2356de5cc"
      },
      "source": [
        "plt.imshow(X_test[1000], cmap='gray')\n",
        "plt.title(y_test[1000])"
      ],
      "execution_count": 5,
      "outputs": [
        {
          "output_type": "execute_result",
          "data": {
            "text/plain": [
              "Text(0.5, 1.0, '9')"
            ]
          },
          "metadata": {},
          "execution_count": 5
        },
        {
          "output_type": "display_data",
          "data": {
            "text/plain": [
              "<Figure size 640x480 with 1 Axes>"
            ],
            "image/png": "[encoded data removed]"
          },
          "metadata": {}
        }
      ]
    },
    {
      "cell_type": "code",
      "metadata": {
        "id": "yRXjnJNy_3Gq"
      },
      "source": [
        "X_train = X_train.reshape(60000,784)\n",
        "X_test = X_test.reshape(10000,784)\n",
        "\n",
        "X_train = X_train.astype('float32')\n",
        "X_test = X_test.astype('float32')\n",
        "\n",
        "X_train/=255\n",
        "X_test/=255"
      ],
      "execution_count": 6,
      "outputs": []
    },
    {
      "cell_type": "code",
      "metadata": {
        "id": "6jOAvg1P_3Gt",
        "colab": {
          "base_uri": "https://localhost:8080/"
        },
        "outputId": "e35bd552-1738-4354-d96e-17b7823621d0"
      },
      "source": [
        "number_of_classes = 10\n",
        "\n",
        "Y_train = to_categorical(y_train, number_of_classes)\n",
        "Y_test = to_categorical(y_test, number_of_classes)\n",
        "\n",
        "y_train[10], Y_train[10]"
      ],
      "execution_count": 7,
      "outputs": [
        {
          "output_type": "execute_result",
          "data": {
            "text/plain": [
              "(3, array([0., 0., 0., 1., 0., 0., 0., 0., 0., 0.], dtype=float32))"
            ]
          },
          "metadata": {},
          "execution_count": 7
        }
      ]
    },
    {
      "cell_type": "code",
      "metadata": {
        "id": "BsjgvmUN_3Gv"
      },
      "source": [
        "model = Sequential()\n",
        "\n",
        "model.add(Dense(512, input_dim=784,activation='relu'))\n",
        "# An \"activation\" is just a non-linear function applied to the output\n",
        "# of the layer above. Here, with a \"rectified linear unit\",\n",
        "# we clamp all values below 0 to 0.\n",
        "#model.add(Activation('relu'))\n",
        "# Dropout helps protect the model from memorizing or \"overfitting\" the training data\n",
        "#model.add(Dropout(0.2))\n",
        "\n",
        "model.add(Dense(256,activation='relu'))\n",
        "#model.add(Activation('relu'))\n",
        "#model.add(Dropout(0.2))\n",
        "\n",
        "model.add(Dense(128,activation='relu'))\n",
        "#model.add(Activation('relu'))\n",
        "#model.add(Dropout(0.2))\n",
        "\n",
        "model.add(Dense(10,activation='softmax'))\n",
        "# This special \"softmax\" activation among other things,\n",
        "# ensures the output is a valid probaility distribution, that is\n",
        "# that its values are all non-negative and sum to 1.\n",
        "#model.add(Activation('softmax'))"
      ],
      "execution_count": 8,
      "outputs": []
    },
    {
      "cell_type": "code",
      "source": [
        "model.summary()"
      ],
      "metadata": {
        "id": "zkUSV8DUKYM3",
        "outputId": "9571148d-ef12-43d4-fb54-5ccb466ad961",
        "colab": {
          "base_uri": "https://localhost:8080/"
        }
      },
      "execution_count": 9,
      "outputs": [
        {
          "output_type": "stream",
          "name": "stdout",
          "text": [
            "Model: \"sequential\"\n",
            "_________________________________________________________________\n",
            " Layer (type)                Output Shape              Param #   \n",
            "=================================================================\n",
            " dense (Dense)               (None, 512)               401920    \n",
            "                                                                 \n",
            " dense_1 (Dense)             (None, 256)               131328    \n",
            "                                                                 \n",
            " dense_2 (Dense)             (None, 128)               32896     \n",
            "                                                                 \n",
            " dense_3 (Dense)             (None, 10)                1290      \n",
            "                                                                 \n",
            "=================================================================\n",
            "Total params: 567434 (2.16 MB)\n",
            "Trainable params: 567434 (2.16 MB)\n",
            "Non-trainable params: 0 (0.00 Byte)\n",
            "_________________________________________________________________\n"
          ]
        }
      ]
    },
    {
      "cell_type": "code",
      "source": [
        "from keras.callbacks import EarlyStopping\n",
        "es = EarlyStopping(monitor='val_accuracy', mode='max',patience=10,min_delta=0.01)"
      ],
      "metadata": {
        "id": "gScFBC25PY_C"
      },
      "execution_count": 10,
      "outputs": []
    },
    {
      "cell_type": "code",
      "source": [
        "!mkdir /content/weight"
      ],
      "metadata": {
        "id": "FL9gq5CXyDYf"
      },
      "execution_count": 11,
      "outputs": []
    },
    {
      "cell_type": "code",
      "source": [
        "from tensorflow.keras.callbacks import ModelCheckpoint\n",
        "import os\n",
        "\n",
        "fname = os.path.sep.join([\"/content/weight\",\"weights-{epoch:03d}-{val_loss:.4f}.h5\"])"
      ],
      "metadata": {
        "id": "rUiS8PS6Q1WU"
      },
      "execution_count": 12,
      "outputs": []
    },
    {
      "cell_type": "code",
      "source": [
        "mc = ModelCheckpoint(fname, monitor='val_loss', mode='min', save_best_only=True)"
      ],
      "metadata": {
        "id": "LRXXjqC9Q70u"
      },
      "execution_count": 13,
      "outputs": []
    },
    {
      "cell_type": "code",
      "metadata": {
        "id": "UfM4obWE_3Gy"
      },
      "source": [
        "model.compile(loss='categorical_crossentropy', optimizer='adam',metrics=['accuracy'])"
      ],
      "execution_count": 14,
      "outputs": []
    },
    {
      "cell_type": "code",
      "metadata": {
        "id": "4bgNGsohMEr2",
        "colab": {
          "base_uri": "https://localhost:8080/"
        },
        "outputId": "79ed451b-9f60-49ff-ed7f-603de665b0ad"
      },
      "source": [
        "model.summary()"
      ],
      "execution_count": 15,
      "outputs": [
        {
          "output_type": "stream",
          "name": "stdout",
          "text": [
            "Model: \"sequential\"\n",
            "_________________________________________________________________\n",
            " Layer (type)                Output Shape              Param #   \n",
            "=================================================================\n",
            " dense (Dense)               (None, 512)               401920    \n",
            "                                                                 \n",
            " dense_1 (Dense)             (None, 256)               131328    \n",
            "                                                                 \n",
            " dense_2 (Dense)             (None, 128)               32896     \n",
            "                                                                 \n",
            " dense_3 (Dense)             (None, 10)                1290      \n",
            "                                                                 \n",
            "=================================================================\n",
            "Total params: 567434 (2.16 MB)\n",
            "Trainable params: 567434 (2.16 MB)\n",
            "Non-trainable params: 0 (0.00 Byte)\n",
            "_________________________________________________________________\n"
          ]
        }
      ]
    },
    {
      "cell_type": "code",
      "metadata": {
        "id": "3P6VqYcf_3G2"
      },
      "source": [
        "size = int(len(X_train) * 0.8)\n",
        "\n",
        "train_x, val_x = X_train[:size], X_train[size:]\n",
        "train_y, val_y = Y_train[:size], Y_train[size:]"
      ],
      "execution_count": 16,
      "outputs": []
    },
    {
      "cell_type": "code",
      "source": [
        "train_x.shape"
      ],
      "metadata": {
        "id": "Cx3EJrbRL1hk",
        "outputId": "0455d894-0d4e-43fe-fd71-76c1356f3108",
        "colab": {
          "base_uri": "https://localhost:8080/"
        }
      },
      "execution_count": 17,
      "outputs": [
        {
          "output_type": "execute_result",
          "data": {
            "text/plain": [
              "(48000, 784)"
            ]
          },
          "metadata": {},
          "execution_count": 17
        }
      ]
    },
    {
      "cell_type": "code",
      "source": [
        "val_x.shape"
      ],
      "metadata": {
        "id": "A2Osopl6L4Tp",
        "outputId": "d657dc67-84a1-44b4-966d-09ae6013395c",
        "colab": {
          "base_uri": "https://localhost:8080/"
        }
      },
      "execution_count": 18,
      "outputs": [
        {
          "output_type": "execute_result",
          "data": {
            "text/plain": [
              "(12000, 784)"
            ]
          },
          "metadata": {},
          "execution_count": 18
        }
      ]
    },
    {
      "cell_type": "code",
      "source": [
        "X_test.shape"
      ],
      "metadata": {
        "id": "tmbnxhfLL6i3",
        "outputId": "f20b23de-8ee4-48a3-9ec0-4c74a8e82a7e",
        "colab": {
          "base_uri": "https://localhost:8080/"
        }
      },
      "execution_count": 19,
      "outputs": [
        {
          "output_type": "execute_result",
          "data": {
            "text/plain": [
              "(10000, 784)"
            ]
          },
          "metadata": {},
          "execution_count": 19
        }
      ]
    },
    {
      "cell_type": "code",
      "metadata": {
        "id": "1IQyPm1g_3G6",
        "colab": {
          "base_uri": "https://localhost:8080/"
        },
        "outputId": "b424dbc9-f73b-4aea-bd22-93132ca0ae7a"
      },
      "source": [
        "hist = model.fit(train_x, train_y, batch_size=128, epochs=100,callbacks=[es,mc], validation_data=(val_x, val_y))"
      ],
      "execution_count": 20,
      "outputs": [
        {
          "output_type": "stream",
          "name": "stdout",
          "text": [
            "Epoch 1/100\n",
            "375/375 [==============================] - 7s 5ms/step - loss: 0.2569 - accuracy: 0.9248 - val_loss: 0.1211 - val_accuracy: 0.9648\n",
            "Epoch 2/100\n",
            " 30/375 [=>............................] - ETA: 1s - loss: 0.1065 - accuracy: 0.9674"
          ]
        },
        {
          "output_type": "stream",
          "name": "stderr",
          "text": [
            "/usr/local/lib/python3.10/dist-packages/keras/src/engine/training.py:3000: UserWarning: You are saving your model as an HDF5 file via `model.save()`. This file format is considered legacy. We recommend using instead the native Keras format, e.g. `model.save('my_model.keras')`.\n",
            "  saving_api.save_model(\n"
          ]
        },
        {
          "output_type": "stream",
          "name": "stdout",
          "text": [
            "375/375 [==============================] - 2s 4ms/step - loss: 0.0912 - accuracy: 0.9718 - val_loss: 0.1104 - val_accuracy: 0.9663\n",
            "Epoch 3/100\n",
            "375/375 [==============================] - 2s 5ms/step - loss: 0.0590 - accuracy: 0.9816 - val_loss: 0.0882 - val_accuracy: 0.9742\n",
            "Epoch 4/100\n",
            "375/375 [==============================] - 2s 5ms/step - loss: 0.0424 - accuracy: 0.9866 - val_loss: 0.0839 - val_accuracy: 0.9754\n",
            "Epoch 5/100\n",
            "375/375 [==============================] - 1s 4ms/step - loss: 0.0309 - accuracy: 0.9897 - val_loss: 0.0858 - val_accuracy: 0.9769\n",
            "Epoch 6/100\n",
            "375/375 [==============================] - 1s 4ms/step - loss: 0.0226 - accuracy: 0.9922 - val_loss: 0.0922 - val_accuracy: 0.9769\n",
            "Epoch 7/100\n",
            "375/375 [==============================] - 1s 4ms/step - loss: 0.0253 - accuracy: 0.9913 - val_loss: 0.0925 - val_accuracy: 0.9772\n",
            "Epoch 8/100\n",
            "375/375 [==============================] - 2s 4ms/step - loss: 0.0194 - accuracy: 0.9938 - val_loss: 0.0959 - val_accuracy: 0.9760\n",
            "Epoch 9/100\n",
            "375/375 [==============================] - 1s 4ms/step - loss: 0.0161 - accuracy: 0.9946 - val_loss: 0.1220 - val_accuracy: 0.9735\n",
            "Epoch 10/100\n",
            "375/375 [==============================] - 1s 4ms/step - loss: 0.0166 - accuracy: 0.9946 - val_loss: 0.0961 - val_accuracy: 0.9776\n",
            "Epoch 11/100\n",
            "375/375 [==============================] - 2s 5ms/step - loss: 0.0160 - accuracy: 0.9950 - val_loss: 0.0960 - val_accuracy: 0.9794\n",
            "Epoch 12/100\n",
            "375/375 [==============================] - 2s 5ms/step - loss: 0.0119 - accuracy: 0.9962 - val_loss: 0.1315 - val_accuracy: 0.9728\n",
            "Epoch 13/100\n",
            "375/375 [==============================] - 2s 4ms/step - loss: 0.0145 - accuracy: 0.9951 - val_loss: 0.1085 - val_accuracy: 0.9770\n",
            "Epoch 14/100\n",
            "375/375 [==============================] - 1s 4ms/step - loss: 0.0134 - accuracy: 0.9959 - val_loss: 0.0990 - val_accuracy: 0.9780\n"
          ]
        }
      ]
    },
    {
      "cell_type": "code",
      "metadata": {
        "id": "iVMEuC0-_3HB",
        "colab": {
          "base_uri": "https://localhost:8080/"
        },
        "outputId": "831588a6-8d6d-48c2-f725-ecacd32b6f89"
      },
      "source": [
        "score = model.evaluate(X_test, Y_test)\n",
        "print()\n",
        "print('Test accuracy: ', score[1])"
      ],
      "execution_count": 21,
      "outputs": [
        {
          "output_type": "stream",
          "name": "stdout",
          "text": [
            "313/313 [==============================] - 1s 3ms/step - loss: 0.0895 - accuracy: 0.9786\n",
            "\n",
            "Test accuracy:  0.978600025177002\n"
          ]
        }
      ]
    },
    {
      "cell_type": "code",
      "metadata": {
        "id": "elo2tQ9C_3HE",
        "colab": {
          "base_uri": "https://localhost:8080/"
        },
        "outputId": "ead1fb11-33e4-41d1-8feb-54aa8594735c"
      },
      "source": [
        "predictions = model.predict(X_test)\n",
        "\n",
        "predictions = list(predictions)\n",
        "actuals = list(y_test)\n",
        "\n",
        "sub = pd.DataFrame({'Actual': actuals, 'Predictions': predictions})\n",
        "sub.to_csv('output.csv', index=False)"
      ],
      "execution_count": 22,
      "outputs": [
        {
          "output_type": "stream",
          "name": "stdout",
          "text": [
            "313/313 [==============================] - 1s 2ms/step\n"
          ]
        }
      ]
    },
    {
      "cell_type": "code",
      "source": [
        "np.argmax(predictions[1])"
      ],
      "metadata": {
        "id": "V7WVw-ylOE1d",
        "outputId": "2f3ee49d-bb0b-421c-ece7-62236ac74d40",
        "colab": {
          "base_uri": "https://localhost:8080/"
        }
      },
      "execution_count": 23,
      "outputs": [
        {
          "output_type": "execute_result",
          "data": {
            "text/plain": [
              "2"
            ]
          },
          "metadata": {},
          "execution_count": 23
        }
      ]
    },
    {
      "cell_type": "code",
      "metadata": {
        "id": "jd888zf-mDjy"
      },
      "source": [],
      "execution_count": null,
      "outputs": []
    },
    {
      "cell_type": "code",
      "metadata": {
        "id": "CiSKGn2jVhkK",
        "colab": {
          "base_uri": "https://localhost:8080/",
          "height": 180
        },
        "outputId": "623d115c-3f98-4dde-a3ef-4cf68c898b2a"
      },
      "source": [
        "plt.figure(figsize=(14,3))\n",
        "plt.subplot(1, 2, 1)\n",
        "plt.suptitle('Optimizer : Adam', fontsize=10)\n",
        "plt.ylabel('Loss', fontsize=16)\n",
        "plt.plot(hist.history['loss'], color='b', label='Training Loss')\n",
        "plt.plot(hist.history['val_loss'], color='r', label='Validation Loss')\n",
        "plt.legend(loc='upper right')\n",
        "\n",
        "plt.subplot(1, 2, 2)\n",
        "plt.ylabel('Accuracy', fontsize=16)\n",
        "plt.plot(hist.history['accuracy'], color='b', label='Training Accuracy')\n",
        "plt.plot(hist.history['val_accuracy'], color='r', label='Validation Accuracy')\n",
        "plt.legend(loc='lower right')\n",
        "plt.show()"
      ],
      "execution_count": 24,
      "outputs": [
        {
          "output_type": "display_data",
          "data": {
            "text/plain": [
              "<Figure size 1400x300 with 2 Axes>"
            ],
            "image/png": "[encoded data removed]"
          },
          "metadata": {}
        }
      ]
    },
    {
      "cell_type": "code",
      "metadata": {
        "id": "yXNDej7bnSZz"
      },
      "source": [],
      "execution_count": null,
      "outputs": []
    }
  ]
}