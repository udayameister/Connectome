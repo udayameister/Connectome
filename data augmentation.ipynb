{
  "nbformat": 4,
  "nbformat_minor": 0,
  "metadata": {
    "colab": {
      "provenance": [],
      "include_colab_link": true
    },
    "kernelspec": {
      "name": "python3",
      "display_name": "Python 3"
    },
    "language_info": {
      "name": "python"
    }
  },
  "cells": [
    {
      "cell_type": "markdown",
      "metadata": {
        "id": "view-in-github",
        "colab_type": "text"
      },
      "source": [
        "<a href=\"https://colab.research.google.com/github/udayameister/Connectome/blob/main/data%20augmentation.ipynb\" target=\"_parent\"><img src=\"https://colab.research.google.com/assets/colab-badge.svg\" alt=\"Open In Colab\"/></a>"
      ]
    },
    {
      "cell_type": "code",
      "execution_count": 3,
      "metadata": {
        "id": "6AjP9DPBhu2T"
      },
      "outputs": [],
      "source": [
        "from tensorflow.keras.preprocessing.image import ImageDataGenerator\n",
        "from tensorflow.keras.preprocessing.image import img_to_array\n",
        "from tensorflow.keras.preprocessing.image import load_img\n",
        "import numpy as np"
      ]
    },
    {
      "cell_type": "code",
      "source": [
        "image = load_img(\"/content/1.JPG\")\n",
        "image = img_to_array(image)\n",
        "image.shape\n",
        "image = np.expand_dims(image, axis=0)"
      ],
      "metadata": {
        "id": "cPFJT6Cvh0RL"
      },
      "execution_count": 10,
      "outputs": []
    },
    {
      "cell_type": "code",
      "source": [
        "# construct the image generator for data augmentation then\n",
        "# initialize the total number of images generated thus far\n",
        "aug = ImageDataGenerator(rotation_range=30, width_shift_range=0.1,\n",
        "\theight_shift_range=0.1, shear_range=0.2, zoom_range=0.2,\n",
        "\thorizontal_flip=True, fill_mode=\"nearest\")"
      ],
      "metadata": {
        "id": "1cFNqUGAh_zp"
      },
      "execution_count": 11,
      "outputs": []
    },
    {
      "cell_type": "code",
      "source": [
        "!mkdir /content/output"
      ],
      "metadata": {
        "id": "F_bRiBW7iQrq",
        "outputId": "5f8802a3-f079-4316-fe4d-95e1819f3777",
        "colab": {
          "base_uri": "https://localhost:8080/"
        }
      },
      "execution_count": 15,
      "outputs": [
        {
          "output_type": "stream",
          "name": "stdout",
          "text": [
            "mkdir: cannot create directory ‘/content/output’: File exists\n"
          ]
        }
      ]
    },
    {
      "cell_type": "code",
      "source": [
        "imageGen = aug.flow(image, batch_size=1, save_to_dir=\"/content/output\",\n",
        "\tsave_prefix=\"image\", save_format=\"jpg\")"
      ],
      "metadata": {
        "id": "V33EUX3PiDtr"
      },
      "execution_count": 16,
      "outputs": []
    },
    {
      "cell_type": "code",
      "source": [
        "total = 0"
      ],
      "metadata": {
        "id": "9wEd304zifi-"
      },
      "execution_count": 17,
      "outputs": []
    },
    {
      "cell_type": "code",
      "source": [
        "# loop over examples from our image data augmentation generator\n",
        "for image in imageGen:\n",
        "\t# increment our counter\n",
        "\ttotal += 1\n",
        "\n",
        "\t# if we have reached 10 examples, break from the loop\n",
        "\tif total == 10:\n",
        "\t\tbreak"
      ],
      "metadata": {
        "id": "4TBvDOsNiZYh"
      },
      "execution_count": 18,
      "outputs": []
    },
    {
      "cell_type": "code",
      "source": [],
      "metadata": {
        "id": "w5f4zUsLihJc"
      },
      "execution_count": null,
      "outputs": []
    }
  ]
}