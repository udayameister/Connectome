{
  "nbformat": 4,
  "nbformat_minor": 0,
  "metadata": {
    "colab": {
      "provenance": [],
      "authorship_tag": "ABX9TyOFZhyXqMqud7h7C48/wns+",
      "include_colab_link": true
    },
    "kernelspec": {
      "name": "python3",
      "display_name": "Python 3"
    },
    "language_info": {
      "name": "python"
    }
  },
  "cells": [
    {
      "cell_type": "markdown",
      "metadata": {
        "id": "view-in-github",
        "colab_type": "text"
      },
      "source": [
        "<a href=\"https://colab.research.google.com/github/udayameister/linux/blob/main/simulated_data.ipynb\" target=\"_parent\"><img src=\"https://colab.research.google.com/assets/colab-badge.svg\" alt=\"Open In Colab\"/></a>"
      ]
    },
    {
      "cell_type": "code",
      "execution_count": 3,
      "metadata": {
        "colab": {
          "base_uri": "https://localhost:8080/"
        },
        "id": "knAJTPgp-sLW",
        "outputId": "a3ca0449-b25c-4519-8d57-1e8e83c21593"
      },
      "outputs": [
        {
          "output_type": "stream",
          "name": "stdout",
          "text": [
            "\u001b[2K     \u001b[90m━━━━━━━━━━━━━━━━━━━━━━━━━━━━━━━━━━━━━━━━\u001b[0m \u001b[32m9.6/9.6 MB\u001b[0m \u001b[31m50.0 MB/s\u001b[0m eta \u001b[36m0:00:00\u001b[0m\n",
            "\u001b[2K     \u001b[90m━━━━━━━━━━━━━━━━━━━━━━━━━━━━━━━━━━━━━━━━\u001b[0m \u001b[32m3.3/3.3 MB\u001b[0m \u001b[31m54.9 MB/s\u001b[0m eta \u001b[36m0:00:00\u001b[0m\n",
            "\u001b[?25h"
          ]
        }
      ],
      "source": [
        "!pip install nilearn --quiet"
      ]
    },
    {
      "cell_type": "code",
      "source": [
        "\n",
        "import matplotlib.pyplot as plt\n",
        "\n",
        "# Generate synthetic data\n",
        "from nilearn._utils.data_gen import generate_group_sparse_gaussian_graphs\n",
        "from nilearn.plotting import show\n",
        "\n",
        "n_subjects = 20  # number of subjects\n",
        "n_displayed = 2 # number of subjects displayed\n",
        "subjects, precisions, topology = generate_group_sparse_gaussian_graphs(\n",
        "    n_subjects=n_subjects, n_features=10, min_n_samples=30, max_n_samples=50,\n",
        "    density=0.1)\n",
        "\n",
        "from nilearn import plotting\n",
        "fig = plt.figure(figsize=(10, 7))\n",
        "plt.subplots_adjust(hspace=0.4)\n",
        "for n in range(n_displayed):\n",
        "    ax = plt.subplot(n_displayed, 4, 4 * n + 1)\n",
        "    max_precision = precisions[n].max()\n",
        "    plotting.plot_matrix(precisions[n], vmin=-max_precision,\n",
        "                         vmax=max_precision, axes=ax, colorbar=False)\n",
        "\n",
        "    if n == 0:\n",
        "        plt.title(\"ground truth\")\n",
        "    plt.ylabel(\"subject %d\" % n)\n",
        "\n",
        "\n",
        "# Run group-sparse covariance on all subjects\n",
        "from nilearn.connectome import GroupSparseCovarianceCV\n",
        "gsc = GroupSparseCovarianceCV(max_iter=50, verbose=1)\n",
        "gsc.fit(subjects)\n",
        "\n",
        "for n in range(n_displayed):\n",
        "    ax = plt.subplot(n_displayed, 4, 4 * n + 2)\n",
        "    max_precision = gsc.precisions_[..., n].max()\n",
        "    plotting.plot_matrix(gsc.precisions_[..., n], axes=ax, vmin=-max_precision,\n",
        "                         vmax=max_precision, colorbar=False)\n",
        "    if n == 0:\n",
        "        plt.title(\"group-sparse\\n$\\\\alpha=%.2f$\" % gsc.alpha_)\n",
        "\n",
        "\n",
        "# Fit one graph lasso per subject\n",
        "try:\n",
        "    from sklearn.covariance import GraphicalLassoCV\n",
        "except ImportError:\n",
        "    # for Scitkit-Learn < v0.20.0\n",
        "    from sklearn.covariance import GraphLassoCV as GraphicalLassoCV\n",
        "\n",
        "gl = GraphicalLassoCV(verbose=1)\n",
        "\n",
        "for n, subject in enumerate(subjects[:n_displayed]):\n",
        "    gl.fit(subject)\n",
        "\n",
        "    ax = plt.subplot(n_displayed, 4, 4 * n + 3)\n",
        "    max_precision = gl.precision_.max()\n",
        "    plotting.plot_matrix(gl.precision_, axes=ax, vmin=-max_precision,\n",
        "                         vmax=max_precision, colorbar=False)\n",
        "    if n == 0:\n",
        "        plt.title(\"graph lasso\")\n",
        "    plt.ylabel(\"$\\\\alpha=%.2f$\" % gl.alpha_)\n",
        "\n",
        "\n",
        "# Fit one graph lasso for all subjects at once\n",
        "import numpy as np\n",
        "gl.fit(np.concatenate(subjects))\n",
        "\n",
        "ax = plt.subplot(n_displayed, 4, 4)\n",
        "max_precision = gl.precision_.max()\n",
        "plotting.plot_matrix(gl.precision_, axes=ax, vmin=-max_precision,\n",
        "                     vmax=max_precision, colorbar=False)\n",
        "plt.title(\"graph lasso, all subjects\\n$\\\\alpha=%.2f$\" % gl.alpha_)\n",
        "\n",
        "show()"
      ],
      "metadata": {
        "colab": {
          "base_uri": "https://localhost:8080/",
          "height": 1000
        },
        "id": "q2WrC4SN-tg8",
        "outputId": "66a8e109-d723-4b1f-eff3-e9e44f7d125d"
      },
      "execution_count": 5,
      "outputs": [
        {
          "output_type": "stream",
          "name": "stderr",
          "text": [
            "[Parallel(n_jobs=1)]: Using backend SequentialBackend with 1 concurrent workers.\n",
            "[Parallel(n_jobs=1)]: Done   5 out of   5 | elapsed:    1.1s finished\n",
            "[Parallel(n_jobs=1)]: Using backend SequentialBackend with 1 concurrent workers.\n"
          ]
        },
        {
          "output_type": "stream",
          "name": "stdout",
          "text": [
            "[GroupSparseCovarianceCV.fit] [GroupSparseCovarianceCV] Done refinement  1 out of 4\n"
          ]
        },
        {
          "output_type": "stream",
          "name": "stderr",
          "text": [
            "[Parallel(n_jobs=1)]: Done   5 out of   5 | elapsed:    0.6s finished\n",
            "[Parallel(n_jobs=1)]: Using backend SequentialBackend with 1 concurrent workers.\n"
          ]
        },
        {
          "output_type": "stream",
          "name": "stdout",
          "text": [
            "[GroupSparseCovarianceCV.fit] [GroupSparseCovarianceCV] Done refinement  2 out of 4\n"
          ]
        },
        {
          "output_type": "stream",
          "name": "stderr",
          "text": [
            "[Parallel(n_jobs=1)]: Done   5 out of   5 | elapsed:    0.7s finished\n",
            "[Parallel(n_jobs=1)]: Using backend SequentialBackend with 1 concurrent workers.\n"
          ]
        },
        {
          "output_type": "stream",
          "name": "stdout",
          "text": [
            "[GroupSparseCovarianceCV.fit] [GroupSparseCovarianceCV] Done refinement  3 out of 4\n"
          ]
        },
        {
          "output_type": "stream",
          "name": "stderr",
          "text": [
            "[Parallel(n_jobs=1)]: Done   5 out of   5 | elapsed:    0.6s finished\n",
            "/usr/local/lib/python3.9/dist-packages/nilearn/connectome/group_sparse_cov.py:245: UserWarning: input signals do not all have unit variance. This can lead to numerical instability.\n",
            "  warnings.warn(\"input signals do not all have unit variance. This \"\n",
            "[Parallel(n_jobs=1)]: Using backend SequentialBackend with 1 concurrent workers.\n"
          ]
        },
        {
          "output_type": "stream",
          "name": "stdout",
          "text": [
            "[GroupSparseCovarianceCV.fit] [GroupSparseCovarianceCV] Done refinement  4 out of 4\n",
            "[GroupSparseCovarianceCV.fit] Final optimization\n"
          ]
        },
        {
          "output_type": "stream",
          "name": "stderr",
          "text": [
            "[Parallel(n_jobs=1)]: Done   5 out of   5 | elapsed:    0.1s finished\n",
            "[Parallel(n_jobs=1)]: Using backend SequentialBackend with 1 concurrent workers.\n",
            "[Parallel(n_jobs=1)]: Done   5 out of   5 | elapsed:    0.1s finished\n",
            "[Parallel(n_jobs=1)]: Using backend SequentialBackend with 1 concurrent workers.\n",
            "[Parallel(n_jobs=1)]: Done   5 out of   5 | elapsed:    0.1s finished\n",
            "[Parallel(n_jobs=1)]: Using backend SequentialBackend with 1 concurrent workers.\n"
          ]
        },
        {
          "output_type": "stream",
          "name": "stdout",
          "text": [
            "[GraphicalLassoCV] Done refinement  1 out of 4:   0s\n",
            "[GraphicalLassoCV] Done refinement  2 out of 4:   0s\n",
            "[GraphicalLassoCV] Done refinement  3 out of 4:   0s\n"
          ]
        },
        {
          "output_type": "stream",
          "name": "stderr",
          "text": [
            "[Parallel(n_jobs=1)]: Done   5 out of   5 | elapsed:    0.1s finished\n",
            "[Parallel(n_jobs=1)]: Using backend SequentialBackend with 1 concurrent workers.\n",
            "[Parallel(n_jobs=1)]: Done   5 out of   5 | elapsed:    0.1s finished\n",
            "[Parallel(n_jobs=1)]: Using backend SequentialBackend with 1 concurrent workers.\n"
          ]
        },
        {
          "output_type": "stream",
          "name": "stdout",
          "text": [
            "[GraphicalLassoCV] Done refinement  4 out of 4:   0s\n",
            "[GraphicalLassoCV] Done refinement  1 out of 4:   0s\n"
          ]
        },
        {
          "output_type": "stream",
          "name": "stderr",
          "text": [
            "[Parallel(n_jobs=1)]: Done   5 out of   5 | elapsed:    0.1s finished\n",
            "[Parallel(n_jobs=1)]: Using backend SequentialBackend with 1 concurrent workers.\n",
            "[Parallel(n_jobs=1)]: Done   5 out of   5 | elapsed:    0.1s finished\n",
            "[Parallel(n_jobs=1)]: Using backend SequentialBackend with 1 concurrent workers.\n",
            "[Parallel(n_jobs=1)]: Done   5 out of   5 | elapsed:    0.1s finished\n"
          ]
        },
        {
          "output_type": "stream",
          "name": "stdout",
          "text": [
            "[GraphicalLassoCV] Done refinement  2 out of 4:   0s\n",
            "[GraphicalLassoCV] Done refinement  3 out of 4:   0s\n",
            "[GraphicalLassoCV] Done refinement  4 out of 4:   0s\n"
          ]
        },
        {
          "output_type": "stream",
          "name": "stderr",
          "text": [
            "[Parallel(n_jobs=1)]: Using backend SequentialBackend with 1 concurrent workers.\n",
            "[Parallel(n_jobs=1)]: Done   5 out of   5 | elapsed:    0.1s finished\n",
            "[Parallel(n_jobs=1)]: Using backend SequentialBackend with 1 concurrent workers.\n",
            "[Parallel(n_jobs=1)]: Done   5 out of   5 | elapsed:    0.1s finished\n",
            "[Parallel(n_jobs=1)]: Using backend SequentialBackend with 1 concurrent workers.\n"
          ]
        },
        {
          "output_type": "stream",
          "name": "stdout",
          "text": [
            "[GraphicalLassoCV] Done refinement  1 out of 4:   0s\n",
            "[GraphicalLassoCV] Done refinement  2 out of 4:   0s\n",
            "[GraphicalLassoCV] Done refinement  3 out of 4:   0s\n"
          ]
        },
        {
          "output_type": "stream",
          "name": "stderr",
          "text": [
            "[Parallel(n_jobs=1)]: Done   5 out of   5 | elapsed:    0.1s finished\n",
            "[Parallel(n_jobs=1)]: Using backend SequentialBackend with 1 concurrent workers.\n",
            "[Parallel(n_jobs=1)]: Done   5 out of   5 | elapsed:    0.1s finished\n"
          ]
        },
        {
          "output_type": "stream",
          "name": "stdout",
          "text": [
            "[GraphicalLassoCV] Done refinement  4 out of 4:   0s\n"
          ]
        },
        {
          "output_type": "display_data",
          "data": {
            "text/plain": [
              "<Figure size 1000x700 with 7 Axes>"
            ],
            "image/png": "[encoded data removed]"
          },
          "metadata": {}
        }
      ]
    }
  ]
}